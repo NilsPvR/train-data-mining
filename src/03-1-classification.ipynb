{
 "cells": [
  {
   "cell_type": "code",
   "execution_count": null,
   "id": "58d7ef19",
   "metadata": {},
   "outputs": [],
   "source": [
    "import pandas as pd\n",
    "from sklearn.model_selection import train_test_split\n",
    "\n",
    "\n",
    "# The first three lines are invalid -> skip\n",
    "journeys = pd.read_csv('../data/train-drives-cleaned.csv', encoding='utf-8')\n",
    "\n",
    "# Select relevant columns\n",
    "journeys_filtered = journeys.loc[:, journeys.columns.str.startswith('train_line') | journeys.columns.isin(['planned_departure_hour', 'crowdedness'])]\n",
    "class_label_df = journeys['ticket_checked']\n",
    "\n",
    "# Split into train and test sets\n",
    "journeys_train, journeys_test, class_label_train, class_label_test = train_test_split(journeys_filtered, class_label_df, test_size=0.2, random_state=124)\n",
    "journeys_filtered.head()\n"
   ]
  },
  {
   "cell_type": "code",
   "execution_count": null,
   "id": "e8f723d6",
   "metadata": {},
   "outputs": [],
   "source": [
    "############################################ MANUAL CHECK REQUIRED !!! ############################################\n",
    "\n",
    "# Good visualization which shows the distribution of the class labels\n",
    "class_label_train.value_counts().plot(kind='bar', title='Class label distribution in training set')\n"
   ]
  },
  {
   "cell_type": "code",
   "execution_count": null,
   "id": "7d078165",
   "metadata": {},
   "outputs": [],
   "source": [
    "from imblearn.over_sampling import SMOTE\n",
    "from sklearn.neighbors import KNeighborsClassifier\n",
    "from sklearn.model_selection import cross_val_score\n",
    "from sklearn.metrics import accuracy_score, classification_report, confusion_matrix\n",
    "from sklearn.utils.class_weight import compute_sample_weight\n",
    "from imblearn.under_sampling import RandomUnderSampler\n",
    "\n",
    "class_labels = class_label_train.unique().astype(str)\n",
    "\n",
    "# As seen in visuals, it is imbalance, use smote\n",
    "# Apply SMOTE only to the training set\n",
    "# smote = SMOTE(random_state=123, k_neighbors=3)\n",
    "# journeys_train_balanced, class_label_train_balanced = smote.fit_resample(journeys_train, class_label_train)\n",
    "# Initialize undersampler\n",
    "undersampler = RandomUnderSampler(random_state=123)\n",
    "\n",
    "# Apply it to your training data\n",
    "journeys_train_balanced, class_label_train_balanced = undersampler.fit_resample(journeys_train, class_label_train)\n",
    "# journeys_train_balanced, class_label_train_balanced = journeys_train, class_label_train\n",
    "\n",
    "\n",
    "class_label_train_balanced.value_counts().plot(kind='bar', title='Class label distribution in training set')\n",
    "\n"
   ]
  },
  {
   "cell_type": "code",
   "execution_count": null,
   "id": "9248349c",
   "metadata": {},
   "outputs": [],
   "source": [
    "# Try different values of k and use cross-validation to find the best one\n",
    "k_range = range(1, 21)\n",
    "cv_scores = []\n",
    "\n",
    "for k in k_range:\n",
    "    knn_classifier = KNeighborsClassifier(n_neighbors=k)\n",
    "    scores = cross_val_score(knn_classifier, journeys_train_balanced, class_label_train_balanced, cv=3, scoring='accuracy')\n",
    "    cv_scores.append(scores.mean())\n",
    "\n",
    "best_k = k_range[cv_scores.index(max(cv_scores))]\n",
    "print(f'Best k found by cross-validation: {best_k}')\n",
    "\n",
    "# Re-initialize KNN classifier with the best k\n",
    "knn_classifier = KNeighborsClassifier(n_neighbors=5)\n",
    "\n",
    "# Fit the model\n",
    "knn_classifier.fit(journeys_train_balanced, class_label_train_balanced)\n",
    "\n",
    "# Predict on the test set\n",
    "knn_predictions = knn_classifier.predict(journeys_test)\n",
    "\n",
    "# Evaluate the KNN model\n",
    "knn_accuracy = accuracy_score(class_label_test, knn_predictions)\n",
    "print(f'Accuracy of KNN Classifier: {knn_accuracy:.3f}')\n",
    "print(classification_report(class_label_test, knn_predictions, target_names=class_labels))\n"
   ]
  }
 ],
 "metadata": {
  "kernelspec": {
   "display_name": ".venv",
   "language": "python",
   "name": "python3"
  },
  "language_info": {
   "codemirror_mode": {
    "name": "ipython",
    "version": 3
   },
   "file_extension": ".py",
   "mimetype": "text/x-python",
   "name": "python",
   "nbconvert_exporter": "python",
   "pygments_lexer": "ipython3",
   "version": "3.13.3"
  }
 },
 "nbformat": 4,
 "nbformat_minor": 5
}
