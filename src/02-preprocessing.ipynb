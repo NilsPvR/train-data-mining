{
 "cells": [
  {
   "cell_type": "markdown",
   "id": "7ac4cd43",
   "metadata": {},
   "source": [
    "# Data preprocessing\n",
    "\n",
    "The data exploration step in the previous notebook already showed that there are some missing values in the data set and some which are not in a good format for furhter analysis. Since the attributes of the data set are well known it is possible to filter out semantic inconsistencies. There might for example be records with the same departure and arrival station.\n",
    "\n",
    "The goal of this step is to handle missing values, transform some values and export a clean data set which can be used for further analysis.\n",
    "\n",
    "## Renaming columns\n",
    "\n",
    "Firstly the columns will be renamed to have english labels as defined in the attribute description."
   ]
  },
  {
   "cell_type": "code",
   "execution_count": null,
   "id": "1580e257",
   "metadata": {},
   "outputs": [],
   "source": [
    "import pandas as pd\n",
    "\n",
    "# The first three lines are invalid -> skip\n",
    "journeys = pd.read_csv('../data/train-drives.csv', skiprows=3, encoding='utf-8')\n",
    "\n",
    "# Rename columns, optional\n",
    "journeys.rename(columns={\n",
    "    'dateCrawled': 'date_crawled',\n",
    "    'Lfd. Nummer': 'ID',\n",
    "    'Linien Nummer': 'train line',\n",
    "    'Start Haltestelle ': 'departure station',\n",
    "    'Ziel Haltestelle': 'arrival station',\n",
    "    'Planmäßige Abfahrtszeit': 'planned departure',\n",
    "    'Verspätung in min': 'delay',\n",
    "    'Kontrolliert': 'ticket checked',\n",
    "    'Gleis verlegt': 'platform changed',\n",
    "    'Fülle des Zuges': 'crowiness',\n",
    "    'Zugmodel': 'train model',\n",
    "    'Sauberkeit': 'cleanliness',\n",
    "    'rel. planmäßige Abfahrtszeit': 'relative planned departure',\n",
    "    'rel. Verspätung': 'relative delay',\n",
    "    'Alternativer Anschluss': 'alternative connection',\n",
    "}, inplace=True)\n",
    "\n",
    "# Drop unnecessary columns\n",
    "journeys.drop(columns=['Bemerkung'], inplace=True)\n",
    "print(journeys.head(20))\n",
    "\n",
    "# Drop all records with rare departure or arrival stations``\n",
    "rastede_bremen_stations = ['Rastede', 'Oldenburg', 'Hude', 'Delmenhorst', 'Bremen', 'Bremen-Neustadt']\n",
    "journeys = journeys[\n",
    "    journeys['departure station'].isin(rastede_bremen_stations)\n",
    "    & journeys['arrival station'].isin(rastede_bremen_stations)\n",
    "]\n",
    "\n",
    "\n",
    "# Save the cleaned data to a new CSV file\n",
    "journeys.to_csv('../data/train-drives-cleaned.csv', index=False, encoding='utf-8')\n"
   ]
  },
  {
   "cell_type": "code",
   "execution_count": null,
   "id": "2a8c707b",
   "metadata": {},
   "outputs": [],
   "source": []
  }
 ],
 "metadata": {
  "kernelspec": {
   "display_name": ".venv",
   "language": "python",
   "name": "python3"
  },
  "language_info": {
   "codemirror_mode": {
    "name": "ipython",
    "version": 3
   },
   "file_extension": ".py",
   "mimetype": "text/x-python",
   "name": "python",
   "nbconvert_exporter": "python",
   "pygments_lexer": "ipython3",
   "version": "3.13.5"
  }
 },
 "nbformat": 4,
 "nbformat_minor": 5
}
