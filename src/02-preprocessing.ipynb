{
 "cells": [
  {
   "cell_type": "markdown",
   "id": "7ac4cd43",
   "metadata": {},
   "source": [
    "# Data preprocessing\n",
    "\n",
    "The data exploration step in the previous notebook already showed that there are some missing values in the data set, some which are not in a good format for furhter analysis. Additionally there might be inconsistent data for example a record with the same departure and arrival station.\n",
    "\n",
    "The goal of this step is to handle missing values, transform some values and export a clean data set which can be used for further analysis. \n",
    "\n",
    "## Renaming columns\n",
    "\n",
    "Firstly the columns will be renamed to have english labels as defined in the attribute description."
   ]
  },
  {
   "cell_type": "code",
   "execution_count": null,
   "id": "1580e257",
   "metadata": {},
   "outputs": [],
   "source": [
    "import pandas as pd\n",
    "\n",
    "# The first three lines are invalid -> skip\n",
    "journeys = pd.read_csv('../data/train-drives.csv', skiprows=3, encoding='utf-8')\n",
    "\n",
    "# Rename columns, optional\n",
    "journeys.rename(columns={\n",
    "    \"dateCrawled\": \"date_crawled\",\n",
    "    \"Lfd. Nummer\": \"ID\",\n",
    "    \"Linien Nummer\": \"train line\",\n",
    "    \"Start Haltestelle\": \"departure station\",\n",
    "    \"Ziel Haltestelle\": \"arrival station\",\n",
    "    \"Planmäßige Abfahrtszeit\": \"planned departure\",\n",
    "    \"Verspätung in min\": \"delay\",\n",
    "    \"Kontrolliert\": \"ticket checked\",\n",
    "    \"Gleis verlegt\": \"platform changed\",\n",
    "    \"Fülle des Zuges\": \"crowiness\",\n",
    "    \"Zugmodel\": \"train model\",\n",
    "    \"Sauberkeit\": \"cleanliness\",\n",
    "    \"rel. planmäßige Abfahrtszeit\": \"relative planned departure\",\n",
    "    \"rel. Verspätung\": \"relative delay\",\n",
    "    \"Alternativer Anschluss\": \"alternative connection\",\n",
    "}, inplace=True)\n",
    "\n",
    "# Drop unnecessary columns\n",
    "journeys.drop(columns=[\"Bemerkung\"], inplace=True)\n"
   ]
  },
  {
   "cell_type": "code",
   "execution_count": null,
   "id": "2a8c707b",
   "metadata": {
    "vscode": {
     "languageId": "plaintext"
    }
   },
   "outputs": [],
   "source": []
  }
 ],
 "metadata": {
  "language_info": {
   "name": "python"
  }
 },
 "nbformat": 4,
 "nbformat_minor": 5
}
