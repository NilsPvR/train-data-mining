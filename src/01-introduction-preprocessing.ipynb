{
 "cells": [
  {
   "cell_type": "markdown",
   "id": "069c602e",
   "metadata": {},
   "source": [
    "# Introduction\n",
    "This constellation of multiple Jupyter Notebooks documents the data mining process for a train data set. The selected data set contains records for various train journeys since november 2023. The data has been created by manually documenting key statistics about every journey in a spreadsheet. The aim of this analysis is to explore patterns and potential correlations within the data set. The data set includes information about the train line, departure and arrival stations as well as date & time, delay and ticket inspections. The exact attributes will be analyzed later on.\n",
    "\n",
    "The primary questions for this analysis are:\n",
    "1. Is there a correlation between the train line and other journey statistics? This includes examining whether certain lines tend to have more delay or higher crowding.\n",
    "2. Can journeys be classified based on key features? Using classification techniques it will be attempted to predict if a train is for example 'likely to be crowded'.\n",
    "3. Is the likelihood of ticket inspections dependent on the time of day or month?"
   ]
  }
 ],
 "metadata": {
  "language_info": {
   "name": "python"
  }
 },
 "nbformat": 4,
 "nbformat_minor": 5
}
